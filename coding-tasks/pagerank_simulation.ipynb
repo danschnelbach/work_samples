{
 "cells": [
  {
   "cell_type": "markdown",
   "metadata": {},
   "source": [
    "Daniel Schnelbach\n",
    "dschnelb\n",
    "HW6 - PageRank with MapReduce"
   ]
  },
  {
   "cell_type": "markdown",
   "metadata": {},
   "source": [
    "## Task\n",
    "\n",
    "Write your code in a Jupyter notebook called pagerank_simulation.ipynb .  Within that express your solution using the following functions:\n",
    "\n",
    "-\t`read_graph(fname)` which takes the name of a file with the incidence vector representation of the graph and returns some python representation.  You are free to choose whichever representation for a graph you prefer (dictionary, list etc).\n",
    "-\t`random_walk(graph, walk_len=1000, beta=0.85)` which performs the random walk described above in steps i—iii.  `random_walk` should return the final node it lands on after performing the random walk.\n",
    "-\t`simulate_pagerank(fname, walk_len=1000, N=1000, beta=0.85)` is the main driver routine that calls `read_graph`, and `random_walk` and calculates the relative frequency at which the random walk process ends on a particular node.  Your execution on the sample graph above will be along the lines of and will produce the output given below:\n",
    "\n",
    "`simulate_pagerank(\"graph-1.txt\", walk_len=1000, N=1000, beta=0.85)`\n",
    "\n",
    "- A 0.379\n",
    "- B 0.206\n",
    "- C 0.370\n",
    "- D 0.045\n"
   ]
  },
  {
   "cell_type": "code",
   "execution_count": 95,
   "metadata": {},
   "outputs": [],
   "source": [
    "# Imports\n",
    "import random"
   ]
  },
  {
   "cell_type": "code",
   "execution_count": 97,
   "metadata": {},
   "outputs": [],
   "source": [
    "def read_graph(fname):\n",
    "    '''\n",
    "    Converts a graph stored as a test file into a \"Node: [List of neighbors]\" representation\n",
    "    '''\n",
    "    graph = {}\n",
    "    with open(fname, 'r') as f:\n",
    "        for line in f:\n",
    "            node, *neighbors = line.split()\n",
    "            graph[node]=neighbors\n",
    "    return graph"
   ]
  },
  {
   "cell_type": "code",
   "execution_count": 128,
   "metadata": {
    "scrolled": false
   },
   "outputs": [],
   "source": [
    "def random_walk(graph, walk_len=1000, beta=0.85):\n",
    "    '''\n",
    "    Performs a random walk and returns the final node that is landed on.\n",
    "    \n",
    "    Default kwargs perform 1000 iterations and select a beta = 0.85,\n",
    "    which means there is a 85% chance of choosing to navigate to the node\n",
    "    via arcs and a 15% chance of a random \"leap\" to any node. \n",
    "    '''\n",
    "    p = random.choice(list(graph.keys())) # get random start page\n",
    "       \n",
    "    counter = 0\n",
    "        \n",
    "    while counter < walk_len:\n",
    "        counter += 1\n",
    "        r = random.random()\n",
    "        if r <= beta:\n",
    "            p = random.choice(graph[p])\n",
    "        else:\n",
    "            p = random.choice(list(graph.keys()))\n",
    "    return p"
   ]
  },
  {
   "cell_type": "code",
   "execution_count": 131,
   "metadata": {},
   "outputs": [],
   "source": [
    "def simulate_pagerank(fname, walk_len=1000, N=1000, beta=0.85):\n",
    "    '''\n",
    "    Calculates the PageRank of nodes in a graph representation.\n",
    "    \n",
    "    Default kwargs perform 1000 random walks to \"land\" on a page\n",
    "    and 1000 iterations of this calculation to achieve the final rank.\n",
    "    '''\n",
    "    random.seed(1)\n",
    "    \n",
    "    graph = read_graph(fname)\n",
    "    \n",
    "    counter = 0\n",
    "    cnts = {x:0 for x in list(graph.keys())}\n",
    "    \n",
    "    while counter < N:\n",
    "        counter += 1\n",
    "        p = random_walk(graph, walk_len, beta)\n",
    "        cnts[p] += 1\n",
    "    \n",
    "    for page in list(cnts.keys()):\n",
    "        print('%s %1.3f' % (page, cnts[page]/N))"
   ]
  },
  {
   "cell_type": "markdown",
   "metadata": {},
   "source": [
    "## Test"
   ]
  },
  {
   "cell_type": "code",
   "execution_count": 132,
   "metadata": {
    "scrolled": false
   },
   "outputs": [
    {
     "name": "stdout",
     "output_type": "stream",
     "text": [
      "A 0.379\n",
      "B 0.206\n",
      "C 0.370\n",
      "D 0.045\n"
     ]
    }
   ],
   "source": [
    "# @ random seed = 1 with first graph\n",
    "simulate_pagerank('graph-1.txt', walk_len=1000, N=1000, beta=0.85)"
   ]
  },
  {
   "cell_type": "code",
   "execution_count": 134,
   "metadata": {},
   "outputs": [
    {
     "name": "stdout",
     "output_type": "stream",
     "text": [
      "A 0.362\n",
      "B 0.169\n",
      "C 0.270\n",
      "D 0.071\n",
      "E 0.128\n"
     ]
    }
   ],
   "source": [
    "# @ random seed = 1 with second graph\n",
    "simulate_pagerank('graph-2.txt', walk_len=1000, N=1000, beta=0.85)"
   ]
  },
  {
   "cell_type": "code",
   "execution_count": 135,
   "metadata": {},
   "outputs": [
    {
     "name": "stdout",
     "output_type": "stream",
     "text": [
      "A 0.030\n",
      "B 0.367\n",
      "C 0.319\n",
      "D 0.049\n",
      "E 0.118\n",
      "F 0.040\n",
      "G 0.018\n",
      "H 0.013\n",
      "I 0.014\n",
      "J 0.020\n",
      "K 0.012\n"
     ]
    }
   ],
   "source": [
    "# @ random seed = 1 with wikipedia example graph\n",
    "simulate_pagerank('wikipedia-example.txt', walk_len=1000, N=1000, beta=0.85)"
   ]
  }
 ],
 "metadata": {
  "kernelspec": {
   "display_name": "Python 3",
   "language": "python",
   "name": "python3"
  },
  "language_info": {
   "codemirror_mode": {
    "name": "ipython",
    "version": 3
   },
   "file_extension": ".py",
   "mimetype": "text/x-python",
   "name": "python",
   "nbconvert_exporter": "python",
   "pygments_lexer": "ipython3",
   "version": "3.8.5"
  }
 },
 "nbformat": 4,
 "nbformat_minor": 4
}
